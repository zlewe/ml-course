{
  "nbformat": 4,
  "nbformat_minor": 0,
  "metadata": {
    "colab": {
      "name": "SVM.ipynb",
      "version": "0.3.2",
      "provenance": [],
      "collapsed_sections": [
        "3PRMC_8JLaLo",
        "I8Lz5SnjLhVg",
        "uaoMIJ7XKf_P",
        "hFk_NSQHNfL3",
        "CirPorcxOqxi",
        "_PuwCDMIZxhs",
        "-wxKsybmj0Lc"
      ],
      "toc_visible": true,
      "include_colab_link": true
    },
    "kernelspec": {
      "name": "python3",
      "display_name": "Python 3"
    },
    "accelerator": "GPU"
  },
  "cells": [
    {
      "cell_type": "markdown",
      "metadata": {
        "id": "view-in-github",
        "colab_type": "text"
      },
      "source": [
        "<a href=\"https://colab.research.google.com/github/zlewe/ml-course/blob/master/SVM.ipynb\" target=\"_parent\"><img src=\"https://colab.research.google.com/assets/colab-badge.svg\" alt=\"Open In Colab\"/></a>"
      ]
    },
    {
      "metadata": {
        "id": "3PRMC_8JLaLo",
        "colab_type": "text"
      },
      "cell_type": "markdown",
      "source": [
        "# 連線以及讀取套件"
      ]
    },
    {
      "metadata": {
        "id": "6JW9Zmp0BAfI",
        "colab_type": "code",
        "colab": {}
      },
      "cell_type": "code",
      "source": [
        "import numpy as np\n",
        "import pandas as pd\n",
        "import matplotlib.pyplot as plt #專業繪圖套件\n",
        "from scipy import misc\n"
      ],
      "execution_count": 0,
      "outputs": []
    },
    {
      "metadata": {
        "id": "gaSJuhJ4L9oX",
        "colab_type": "code",
        "outputId": "8ce2531d-64fc-4351-aa6e-9c60be75793b",
        "colab": {
          "base_uri": "https://localhost:8080/",
          "height": 122
        }
      },
      "cell_type": "code",
      "source": [
        "from  google.colab  import  drive \n",
        "drive.mount('/content/drive')"
      ],
      "execution_count": 3,
      "outputs": [
        {
          "output_type": "stream",
          "text": [
            "Go to this URL in a browser: https://accounts.google.com/o/oauth2/auth?client_id=947318989803-6bn6qk8qdgf4n4g3pfee6491hc0brc4i.apps.googleusercontent.com&redirect_uri=urn%3Aietf%3Awg%3Aoauth%3A2.0%3Aoob&scope=email%20https%3A%2F%2Fwww.googleapis.com%2Fauth%2Fdocs.test%20https%3A%2F%2Fwww.googleapis.com%2Fauth%2Fdrive%20https%3A%2F%2Fwww.googleapis.com%2Fauth%2Fdrive.photos.readonly%20https%3A%2F%2Fwww.googleapis.com%2Fauth%2Fpeopleapi.readonly&response_type=code\n",
            "\n",
            "Enter your authorization code:\n",
            "··········\n",
            "Mounted at /content/drive\n"
          ],
          "name": "stdout"
        }
      ]
    },
    {
      "metadata": {
        "id": "I8Lz5SnjLhVg",
        "colab_type": "text"
      },
      "cell_type": "markdown",
      "source": [
        "# 讀取照片並轉成array"
      ]
    },
    {
      "metadata": {
        "id": "IjYKSn5VX0uV",
        "colab_type": "code",
        "colab": {}
      },
      "cell_type": "code",
      "source": [
        "#轉成灰階的函數\n",
        "def rgb2gray(rgb):\n",
        "\n",
        "    r, g, b = rgb[:,:,0], rgb[:,:,1], rgb[:,:,2]\n",
        "    gray = 0.2989 * r + 0.5870 * g + 0.1140 * b\n",
        "\n",
        "    return gray\n",
        "  \n",
        "#img_gray = rgb2gray(img)\n",
        "#plt.imshow(img_gray)"
      ],
      "execution_count": 0,
      "outputs": []
    },
    {
      "metadata": {
        "id": "ERRuAyNIL-03",
        "colab_type": "code",
        "outputId": "ce8ebeb8-b54a-434d-eb05-f495fbb213df",
        "colab": {
          "base_uri": "https://localhost:8080/",
          "height": 3522
        }
      },
      "cell_type": "code",
      "source": [
        "#讀入圖片並轉成灰階\n",
        "from scipy import misc\n",
        "Album = []\n",
        "for i in range(1,189):\n",
        "  img = plt.imread(\"/content/drive/Team Drives/ML概論專題/bar/bar (\"+str(i)+\").jpg\")\n",
        "  img = misc.imresize(img , (150,150))\n",
        "  #png的空白處會變成黑色，建議統一使用jpg\n",
        "  #imread可將圖片檔轉成array\n",
        "  #print(\"此圖片的矩陣\\n\",img)\n",
        "  #plt.imshow(img)\n",
        "  img = rgb2gray(img)/255\n",
        "  Album.append(img)\n",
        "  #print(len(Album))  \n",
        "\n",
        "for i in range(1,101):\n",
        "  img = plt.imread(\"/content/drive/Team Drives/ML概論專題/histogram/histogram (\"+str(i)+\").jpg\")\n",
        "  img = misc.imresize(img , (150,150))\n",
        "  img = rgb2gray(img)/255\n",
        "  Album.append(img)\n",
        "  #print(len(Album))  \n",
        "\n",
        "for i in range(1,266):\n",
        "  img = plt.imread(\"/content/drive/Team Drives/ML概論專題/pie/pie (\"+str(i)+\").jpg\")\n",
        "  img = misc.imresize(img , (150,150))\n",
        "  img = rgb2gray(img)/255\n",
        "  Album.append(img)\n",
        "  #print(len(Album))  \n",
        "\n",
        "for i in range(1,203):\n",
        "  img = plt.imread(\"/content/drive/Team Drives/ML概論專題/bubble/bubble (\"+str(i)+\").jpg\")\n",
        "  img = misc.imresize(img , (150,150))\n",
        "  img = rgb2gray(img)/255\n",
        "  Album.append(img)  \n",
        "  #print(len(Album))  \n",
        "\n",
        "\n",
        "\n",
        "for i in range(1,209):\n",
        "  img = plt.imread(\"/content/drive/Team Drives/ML概論專題/scatter/scat (\"+str(i)+\").jpg\")\n",
        "  img = misc.imresize(img, (150,150))\n",
        "  img = rgb2gray(img)/255\n",
        "  Album.append(img)\n",
        "  #print(len(Album))  \n",
        "\n",
        "\n",
        "for i in range(1,186):\n",
        "  img = plt.imread(\"/content/drive/Team Drives/ML概論專題/line/line (\"+str(i)+\").jpg\")\n",
        "  img = misc.imresize(img, (150,150))\n",
        "  img = rgb2gray(img)/255\n",
        "  Album.append(img)\n",
        "  #print(len(Album))  "
      ],
      "execution_count": 0,
      "outputs": [
        {
          "output_type": "stream",
          "text": [
            "/usr/local/lib/python3.6/dist-packages/ipykernel_launcher.py:5: DeprecationWarning: `imresize` is deprecated!\n",
            "`imresize` is deprecated in SciPy 1.0.0, and will be removed in 1.3.0.\n",
            "Use Pillow instead: ``numpy.array(Image.fromarray(arr).resize())``.\n",
            "  \"\"\"\n",
            "/usr/local/lib/python3.6/dist-packages/ipykernel_launcher.py:16: DeprecationWarning: `imresize` is deprecated!\n",
            "`imresize` is deprecated in SciPy 1.0.0, and will be removed in 1.3.0.\n",
            "Use Pillow instead: ``numpy.array(Image.fromarray(arr).resize())``.\n",
            "  app.launch_new_instance()\n",
            "/usr/local/lib/python3.6/dist-packages/ipykernel_launcher.py:23: DeprecationWarning: `imresize` is deprecated!\n",
            "`imresize` is deprecated in SciPy 1.0.0, and will be removed in 1.3.0.\n",
            "Use Pillow instead: ``numpy.array(Image.fromarray(arr).resize())``.\n",
            "/usr/local/lib/python3.6/dist-packages/ipykernel_launcher.py:30: DeprecationWarning: `imresize` is deprecated!\n",
            "`imresize` is deprecated in SciPy 1.0.0, and will be removed in 1.3.0.\n",
            "Use Pillow instead: ``numpy.array(Image.fromarray(arr).resize())``.\n",
            "/usr/local/lib/python3.6/dist-packages/ipykernel_launcher.py:39: DeprecationWarning: `imresize` is deprecated!\n",
            "`imresize` is deprecated in SciPy 1.0.0, and will be removed in 1.3.0.\n",
            "Use Pillow instead: ``numpy.array(Image.fromarray(arr).resize())``.\n",
            "/usr/local/lib/python3.6/dist-packages/ipykernel_launcher.py:47: DeprecationWarning: `imresize` is deprecated!\n",
            "`imresize` is deprecated in SciPy 1.0.0, and will be removed in 1.3.0.\n",
            "Use Pillow instead: ``numpy.array(Image.fromarray(arr).resize())``.\n"
          ],
          "name": "stderr"
        },
        {
          "output_type": "stream",
          "text": [
            "964\n",
            "965\n",
            "966\n",
            "967\n",
            "968\n",
            "969\n",
            "970\n",
            "971\n",
            "972\n",
            "973\n",
            "974\n",
            "975\n",
            "976\n",
            "977\n",
            "978\n",
            "979\n",
            "980\n",
            "981\n",
            "982\n",
            "983\n",
            "984\n",
            "985\n",
            "986\n",
            "987\n",
            "988\n",
            "989\n",
            "990\n",
            "991\n",
            "992\n",
            "993\n",
            "994\n",
            "995\n",
            "996\n",
            "997\n",
            "998\n",
            "999\n",
            "1000\n",
            "1001\n",
            "1002\n",
            "1003\n",
            "1004\n",
            "1005\n",
            "1006\n",
            "1007\n",
            "1008\n",
            "1009\n",
            "1010\n",
            "1011\n",
            "1012\n",
            "1013\n",
            "1014\n",
            "1015\n",
            "1016\n",
            "1017\n",
            "1018\n",
            "1019\n",
            "1020\n",
            "1021\n",
            "1022\n",
            "1023\n",
            "1024\n",
            "1025\n",
            "1026\n",
            "1027\n",
            "1028\n",
            "1029\n",
            "1030\n",
            "1031\n",
            "1032\n",
            "1033\n",
            "1034\n",
            "1035\n",
            "1036\n",
            "1037\n",
            "1038\n",
            "1039\n",
            "1040\n",
            "1041\n",
            "1042\n",
            "1043\n",
            "1044\n",
            "1045\n",
            "1046\n",
            "1047\n",
            "1048\n",
            "1049\n",
            "1050\n",
            "1051\n",
            "1052\n",
            "1053\n",
            "1054\n",
            "1055\n",
            "1056\n",
            "1057\n",
            "1058\n",
            "1059\n",
            "1060\n",
            "1061\n",
            "1062\n",
            "1063\n",
            "1064\n",
            "1065\n",
            "1066\n",
            "1067\n",
            "1068\n",
            "1069\n",
            "1070\n",
            "1071\n",
            "1072\n",
            "1073\n",
            "1074\n",
            "1075\n",
            "1076\n",
            "1077\n",
            "1078\n",
            "1079\n",
            "1080\n",
            "1081\n",
            "1082\n",
            "1083\n",
            "1084\n",
            "1085\n",
            "1086\n",
            "1087\n",
            "1088\n",
            "1089\n",
            "1090\n",
            "1091\n",
            "1092\n",
            "1093\n",
            "1094\n",
            "1095\n",
            "1096\n",
            "1097\n",
            "1098\n",
            "1099\n",
            "1100\n",
            "1101\n",
            "1102\n",
            "1103\n",
            "1104\n",
            "1105\n",
            "1106\n",
            "1107\n",
            "1108\n",
            "1109\n",
            "1110\n",
            "1111\n",
            "1112\n",
            "1113\n",
            "1114\n",
            "1115\n",
            "1116\n",
            "1117\n",
            "1118\n",
            "1119\n",
            "1120\n",
            "1121\n",
            "1122\n",
            "1123\n",
            "1124\n",
            "1125\n",
            "1126\n",
            "1127\n",
            "1128\n",
            "1129\n",
            "1130\n",
            "1131\n",
            "1132\n",
            "1133\n",
            "1134\n",
            "1135\n",
            "1136\n",
            "1137\n",
            "1138\n",
            "1139\n",
            "1140\n",
            "1141\n",
            "1142\n",
            "1143\n",
            "1144\n",
            "1145\n",
            "1146\n",
            "1147\n",
            "1148\n"
          ],
          "name": "stdout"
        }
      ]
    },
    {
      "metadata": {
        "id": "SOFtwDxsX1vu",
        "colab_type": "code",
        "colab": {}
      },
      "cell_type": "code",
      "source": [
        "y_0 = 0*np.ones(188)\n",
        "y_1 = 1*np.ones(100)\n",
        "y_2 = 2*np.ones(265)\n",
        "y_3 = 3*np.ones(202)\n",
        "y_4 = 4*np.ones(208)\n",
        "y_5 = 5*np.ones(185)"
      ],
      "execution_count": 0,
      "outputs": []
    },
    {
      "metadata": {
        "id": "eIilzJnVYFTf",
        "colab_type": "code",
        "outputId": "6db86b42-7c54-406a-d038-398e68308244",
        "colab": {
          "base_uri": "https://localhost:8080/",
          "height": 34
        }
      },
      "cell_type": "code",
      "source": [
        "X =Album#最後的再轉成array\n",
        "X = np.array(X)\n",
        "print(X.shape)"
      ],
      "execution_count": 0,
      "outputs": [
        {
          "output_type": "stream",
          "text": [
            "(1148, 150, 150)\n"
          ],
          "name": "stdout"
        }
      ]
    },
    {
      "metadata": {
        "id": "ZdXXo2yIYIxy",
        "colab_type": "code",
        "outputId": "6cb0c127-8148-481e-9b07-52fda93de7ff",
        "colab": {
          "base_uri": "https://localhost:8080/",
          "height": 34
        }
      },
      "cell_type": "code",
      "source": [
        "y = np.hstack((y_0,y_1,y_2,y_3,y_4,y_5))\n",
        "print(y.shape)"
      ],
      "execution_count": 0,
      "outputs": [
        {
          "output_type": "stream",
          "text": [
            "(1148,)\n"
          ],
          "name": "stdout"
        }
      ]
    },
    {
      "metadata": {
        "id": "uaoMIJ7XKf_P",
        "colab_type": "text"
      },
      "cell_type": "markdown",
      "source": [
        "# 儲存資料\n",
        "\n",
        "---\n",
        "1.   分開存\n",
        "2.   一起存\n",
        "\n"
      ]
    },
    {
      "metadata": {
        "id": "DX7aLyPwIpnc",
        "colab_type": "code",
        "colab": {}
      },
      "cell_type": "code",
      "source": [
        "#np.save('data', X)\n",
        "#np.save('target', y)"
      ],
      "execution_count": 0,
      "outputs": []
    },
    {
      "metadata": {
        "id": "iKSKVVZvJBp-",
        "colab_type": "code",
        "colab": {}
      },
      "cell_type": "code",
      "source": [
        "X = np.load('/content/drive/Team Drives/ML概論專題/data.npy')\n",
        "y = np.load('/content/drive/Team Drives/ML概論專題/target.npy')"
      ],
      "execution_count": 0,
      "outputs": []
    },
    {
      "metadata": {
        "id": "13rldbDYKCKR",
        "colab_type": "code",
        "colab": {}
      },
      "cell_type": "code",
      "source": [
        "#np.savez('Data_CNN', data=X, target=y)"
      ],
      "execution_count": 0,
      "outputs": []
    },
    {
      "metadata": {
        "id": "-qE6DgBhkllY",
        "colab_type": "text"
      },
      "cell_type": "markdown",
      "source": [
        "Save to GDrive"
      ]
    },
    {
      "metadata": {
        "id": "ohLncwIdklFK",
        "colab_type": "code",
        "colab": {}
      },
      "cell_type": "code",
      "source": [
        "#np.savez(\"/content/drive/Team Drives/ML概論專題/Data.npz\")"
      ],
      "execution_count": 0,
      "outputs": []
    },
    {
      "metadata": {
        "id": "kgpD_MsGKY7H",
        "colab_type": "text"
      },
      "cell_type": "markdown",
      "source": [
        "**Load from GDrive**"
      ]
    },
    {
      "metadata": {
        "id": "hFk_NSQHNfL3",
        "colab_type": "text"
      },
      "cell_type": "markdown",
      "source": [
        "# 分割訓練和測試集"
      ]
    },
    {
      "metadata": {
        "id": "99yAvGfJsCQi",
        "colab_type": "text"
      },
      "cell_type": "markdown",
      "source": [
        "Sklearn module"
      ]
    },
    {
      "metadata": {
        "id": "AnUh-gT5sFc7",
        "colab_type": "code",
        "colab": {}
      },
      "cell_type": "code",
      "source": [
        "from sklearn.model_selection import train_test_split\n",
        "from sklearn.metrics import classification_report, confusion_matrix\n",
        "from sklearn import svm"
      ],
      "execution_count": 0,
      "outputs": []
    },
    {
      "metadata": {
        "id": "LLftbdfiSa1v",
        "colab_type": "code",
        "outputId": "bbada45f-1311-46f5-983a-e6d7d8bb440c",
        "colab": {
          "base_uri": "https://localhost:8080/",
          "height": 34
        }
      },
      "cell_type": "code",
      "source": [
        "X_train , X_test ,y_train, y_test = train_test_split(X,y,test_size=0.3,random_state=1,stratify=y)\n",
        "print(\"data分割完成\")"
      ],
      "execution_count": 5,
      "outputs": [
        {
          "output_type": "stream",
          "text": [
            "data分割完成\n"
          ],
          "name": "stdout"
        }
      ]
    },
    {
      "metadata": {
        "id": "7-ybEm4WkRCF",
        "colab_type": "text"
      },
      "cell_type": "markdown",
      "source": [
        "Reshape for SVM (2D)"
      ]
    },
    {
      "metadata": {
        "id": "sGlVNKFzbxrv",
        "colab_type": "code",
        "colab": {}
      },
      "cell_type": "code",
      "source": [
        "X_train = X_train.reshape(X_train.shape[0],-1)\n",
        "X_test = X_test.reshape(X_test.shape[0],-1)"
      ],
      "execution_count": 0,
      "outputs": []
    },
    {
      "metadata": {
        "id": "CirPorcxOqxi",
        "colab_type": "text"
      },
      "cell_type": "markdown",
      "source": [
        "# Preprocessing"
      ]
    },
    {
      "metadata": {
        "colab_type": "text",
        "id": "a47Po-1EPjo-"
      },
      "cell_type": "markdown",
      "source": [
        "Standard Scaler"
      ]
    },
    {
      "metadata": {
        "id": "QulEuW3eOvco",
        "colab_type": "code",
        "colab": {}
      },
      "cell_type": "code",
      "source": [
        "from sklearn.preprocessing import StandardScaler\n",
        "scaler = StandardScaler()\n",
        "scaler.fit(X_train)\n",
        "X_train = scaler.transform(X_train)\n",
        "X_test = scaler.transform(X_test)"
      ],
      "execution_count": 0,
      "outputs": []
    },
    {
      "metadata": {
        "id": "_PuwCDMIZxhs",
        "colab_type": "text"
      },
      "cell_type": "markdown",
      "source": [
        "# SVM Model(s)"
      ]
    },
    {
      "metadata": {
        "id": "A48EmwUHRsmh",
        "colab_type": "text"
      },
      "cell_type": "markdown",
      "source": [
        "## Grid Search (not very useful...)"
      ]
    },
    {
      "metadata": {
        "id": "MMWEVQacRx1W",
        "colab_type": "code",
        "colab": {}
      },
      "cell_type": "code",
      "source": [
        "'''\n",
        "from sklearn.model_selection import GridSearchCV\n",
        "\n",
        "def svc_param_selection(X, y, nfolds=3):\n",
        "    Cs = [0.001, 0.01, 0.1, 1, 10]\n",
        "    gammas = [0.001, 0.01, 0.1, 1]\n",
        "    param_grid = {'C': Cs, 'gamma' : gammas}\n",
        "    grid_search = GridSearchCV(svm.SVC(kernel='rbf'), param_grid, cv=nfolds)\n",
        "    grid_search.fit(X, y)\n",
        "    grid_search.best_params_\n",
        "    return grid_search.best_params_\n",
        "'''"
      ],
      "execution_count": 0,
      "outputs": []
    },
    {
      "metadata": {
        "id": "8vOICtGcR_Pg",
        "colab_type": "code",
        "colab": {
          "base_uri": "https://localhost:8080/",
          "height": 34
        },
        "outputId": "995b6874-abce-4055-e83f-a7d572993d8f"
      },
      "cell_type": "code",
      "source": [
        "#svc_param_selection(X_train,y_train)"
      ],
      "execution_count": 16,
      "outputs": [
        {
          "output_type": "execute_result",
          "data": {
            "text/plain": [
              "{'C': 10, 'gamma': 0.001}"
            ]
          },
          "metadata": {
            "tags": []
          },
          "execution_count": 16
        }
      ]
    },
    {
      "metadata": {
        "id": "-6UnKiZjSmM0",
        "colab_type": "text"
      },
      "cell_type": "markdown",
      "source": [
        "## Training"
      ]
    },
    {
      "metadata": {
        "id": "YI267QQRZ1s6",
        "colab_type": "code",
        "outputId": "8d12a601-f33e-4d2b-b323-bdbb94719992",
        "colab": {
          "base_uri": "https://localhost:8080/",
          "height": 85
        }
      },
      "cell_type": "code",
      "source": [
        "clf = svm.SVC(kernel='linear',gamma='scale',verbose=5,decision_function_shape='ovo')\n",
        "clf.fit(X_train,y_train)"
      ],
      "execution_count": 8,
      "outputs": [
        {
          "output_type": "stream",
          "text": [
            "[LibSVM]"
          ],
          "name": "stdout"
        },
        {
          "output_type": "execute_result",
          "data": {
            "text/plain": [
              "SVC(C=1.0, cache_size=200, class_weight=None, coef0=0.0,\n",
              "  decision_function_shape='ovo', degree=3, gamma='scale', kernel='linear',\n",
              "  max_iter=-1, probability=False, random_state=None, shrinking=True,\n",
              "  tol=0.001, verbose=5)"
            ]
          },
          "metadata": {
            "tags": []
          },
          "execution_count": 8
        }
      ]
    },
    {
      "metadata": {
        "id": "UhJDFXb9mTnB",
        "colab_type": "code",
        "colab": {}
      },
      "cell_type": "code",
      "source": [
        "lin_clf = svm.LinearSVC(dual=False,verbose = 10)\n",
        "lin_clf.fit(X_train,y_train)"
      ],
      "execution_count": 0,
      "outputs": []
    },
    {
      "metadata": {
        "id": "3btLvuydptuz",
        "colab_type": "code",
        "colab": {
          "base_uri": "https://localhost:8080/",
          "height": 119
        },
        "outputId": "a78046df-1bb0-4816-8b8c-27d842f00df9"
      },
      "cell_type": "code",
      "source": [
        "from sklearn import linear_model\n",
        "sgd_clf = linear_model.SGDClassifier(max_iter=1000, tol=1e-3)\n",
        "sgd_clf.fit(X_train, y_train)"
      ],
      "execution_count": 9,
      "outputs": [
        {
          "output_type": "execute_result",
          "data": {
            "text/plain": [
              "SGDClassifier(alpha=0.0001, average=False, class_weight=None,\n",
              "       early_stopping=False, epsilon=0.1, eta0=0.0, fit_intercept=True,\n",
              "       l1_ratio=0.15, learning_rate='optimal', loss='hinge', max_iter=1000,\n",
              "       n_iter=None, n_iter_no_change=5, n_jobs=None, penalty='l2',\n",
              "       power_t=0.5, random_state=None, shuffle=True, tol=0.001,\n",
              "       validation_fraction=0.1, verbose=0, warm_start=False)"
            ]
          },
          "metadata": {
            "tags": []
          },
          "execution_count": 9
        }
      ]
    },
    {
      "metadata": {
        "id": "-wxKsybmj0Lc",
        "colab_type": "text"
      },
      "cell_type": "markdown",
      "source": [
        "# Prediction and Metrics"
      ]
    },
    {
      "metadata": {
        "id": "2EQxrVxPjtzF",
        "colab_type": "text"
      },
      "cell_type": "markdown",
      "source": [
        "Confusion Matrix Function"
      ]
    },
    {
      "metadata": {
        "id": "6iFMlw8te3p9",
        "colab_type": "code",
        "colab": {}
      },
      "cell_type": "code",
      "source": [
        "from sklearn.utils.multiclass import unique_labels\n",
        "\n",
        "def plot_confusion_matrix(confusion_matrix, classes,\n",
        "                          normalize=False,\n",
        "                          title=None,\n",
        "                          cmap=plt.cm.Blues):\n",
        "    \"\"\"\n",
        "    This function prints and plots the confusion matrix.\n",
        "    Normalization can be applied by setting `normalize=True`.\n",
        "    \"\"\"\n",
        "    if not title:\n",
        "        if normalize:\n",
        "            title = 'Normalized confusion matrix'\n",
        "        else:\n",
        "            title = 'Confusion matrix, without normalization'\n",
        "\n",
        "    # Compute confusion matrix\n",
        "    cm = confusion_matrix\n",
        "    if normalize:\n",
        "        cm = cm.astype('float') / cm.sum(axis=1)[:, np.newaxis]\n",
        "        print(\"Normalized confusion matrix\")\n",
        "    else:\n",
        "        print('Confusion matrix, without normalization')\n",
        "\n",
        "    fig, ax = plt.subplots(figsize=(20, 10))\n",
        "    im = ax.imshow(cm, interpolation='nearest', cmap=cmap)\n",
        "    ax.figure.colorbar(im, ax=ax)\n",
        "    # We want to show all ticks...\n",
        "    ax.set(xticks=np.arange(cm.shape[1]),\n",
        "           yticks=np.arange(cm.shape[0]),\n",
        "           # ... and label them with the respective list entries\n",
        "           xticklabels=classes, yticklabels=classes,\n",
        "           title=title,\n",
        "           ylabel='True label',\n",
        "           xlabel='Predicted label')\n",
        "\n",
        "    # Rotate the tick labels and set their alignment.\n",
        "    plt.setp(ax.get_xticklabels(), rotation=45, ha=\"right\",\n",
        "             rotation_mode=\"anchor\")\n",
        "\n",
        "    # Loop over data dimensions and create text annotations.\n",
        "    fmt = '.2f' if normalize else 'd'\n",
        "    thresh = cm.max() / 2.\n",
        "    for i in range(cm.shape[0]):\n",
        "        for j in range(cm.shape[1]):\n",
        "            ax.text(j, i, format(cm[i, j], fmt),\n",
        "                    ha=\"center\", va=\"center\",\n",
        "                    color=\"white\" if cm[i, j] > thresh else \"black\")\n",
        "    fig.tight_layout()\n",
        "    plt.show()"
      ],
      "execution_count": 0,
      "outputs": []
    },
    {
      "metadata": {
        "id": "q-nJ-BmqmhIr",
        "colab_type": "text"
      },
      "cell_type": "markdown",
      "source": [
        "SVC"
      ]
    },
    {
      "metadata": {
        "id": "CwHP0gJqgcMZ",
        "colab_type": "code",
        "outputId": "539088e3-59d9-42a0-b8bf-c296534654ca",
        "colab": {
          "base_uri": "https://localhost:8080/",
          "height": 984
        }
      },
      "cell_type": "code",
      "source": [
        "classes = ['bar', 'hist', 'pie', 'bub', 'scat', 'line']\n",
        "\n",
        "y_pred = clf.predict(X_test)\n",
        "cmdt = confusion_matrix(y_test, y_pred)\n",
        "plot_confusion_matrix(cmdt,classes)\n",
        "\n",
        "print('Accuracy:', clf.score(X_test, y_test) )\n",
        "print(classification_report(y_test, y_pred, target_names=classes))"
      ],
      "execution_count": 11,
      "outputs": [
        {
          "output_type": "stream",
          "text": [
            "Confusion matrix, without normalization\n"
          ],
          "name": "stdout"
        },
        {
          "output_type": "display_data",
          "data": {
            "image/png": "[encoded data removed]",
            "text/plain": [
              "<Figure size 1440x720 with 2 Axes>"
            ]
          },
          "metadata": {
            "tags": []
          }
        },
        {
          "output_type": "stream",
          "text": [
            "Accuracy: 0.5681159420289855\n",
            "              precision    recall  f1-score   support\n",
            "\n",
            "         bar       0.47      0.48      0.48        56\n",
            "        hist       0.57      0.43      0.49        30\n",
            "         pie       0.78      0.79      0.78        80\n",
            "         bub       0.55      0.44      0.49        61\n",
            "        scat       0.50      0.58      0.54        62\n",
            "        line       0.48      0.54      0.50        56\n",
            "\n",
            "   micro avg       0.57      0.57      0.57       345\n",
            "   macro avg       0.56      0.54      0.55       345\n",
            "weighted avg       0.57      0.57      0.57       345\n",
            "\n"
          ],
          "name": "stdout"
        }
      ]
    },
    {
      "metadata": {
        "id": "7Nn2vAyRmjFI",
        "colab_type": "text"
      },
      "cell_type": "markdown",
      "source": [
        "Linear SVC"
      ]
    },
    {
      "metadata": {
        "id": "vJuZST3mmj7o",
        "colab_type": "code",
        "outputId": "5a7b3b5c-af60-4229-9a3a-6779ddd30b6e",
        "colab": {
          "base_uri": "https://localhost:8080/",
          "height": 984
        }
      },
      "cell_type": "code",
      "source": [
        "lin_y_pred = lin_clf.predict(X_test)\n",
        "cmdt = confusion_matrix(y_test, lin_y_pred)\n",
        "plot_confusion_matrix(cmdt,classes)\n",
        "\n",
        "print('Accuracy:', lin_clf.score(X_test, y_test) )\n",
        "print(classification_report(y_test, lin_y_pred, target_names=classes))"
      ],
      "execution_count": 12,
      "outputs": [
        {
          "output_type": "stream",
          "text": [
            "Confusion matrix, without normalization\n"
          ],
          "name": "stdout"
        },
        {
          "output_type": "display_data",
          "data": {
            "image/png": "[encoded data removed]",
            "text/plain": [
              "<Figure size 1440x720 with 2 Axes>"
            ]
          },
          "metadata": {
            "tags": []
          }
        },
        {
          "output_type": "stream",
          "text": [
            "Accuracy: 0.5391304347826087\n",
            "              precision    recall  f1-score   support\n",
            "\n",
            "         bar       0.47      0.30      0.37        56\n",
            "        hist       0.40      0.33      0.36        30\n",
            "         pie       0.78      0.78      0.78        80\n",
            "         bub       0.59      0.43      0.50        61\n",
            "        scat       0.41      0.63      0.50        62\n",
            "        line       0.48      0.57      0.52        56\n",
            "\n",
            "   micro avg       0.54      0.54      0.54       345\n",
            "   macro avg       0.52      0.51      0.50       345\n",
            "weighted avg       0.55      0.54      0.53       345\n",
            "\n"
          ],
          "name": "stdout"
        }
      ]
    },
    {
      "metadata": {
        "id": "uWOE0cPBql3D",
        "colab_type": "text"
      },
      "cell_type": "markdown",
      "source": [
        "SGD SVM"
      ]
    },
    {
      "metadata": {
        "id": "dBcfMu3FnyTG",
        "colab_type": "code",
        "colab": {
          "base_uri": "https://localhost:8080/",
          "height": 984
        },
        "outputId": "2d43ee04-1b35-452e-c1ac-dd6f2160d7e3"
      },
      "cell_type": "code",
      "source": [
        "sgd_y_pred = sgd_clf.predict(X_test)\n",
        "cmdt = confusion_matrix(y_test, sgd_y_pred)\n",
        "plot_confusion_matrix(cmdt,classes)\n",
        "\n",
        "print('Accuracy:', sgd_clf.score(X_test, y_test) )\n",
        "print(classification_report(y_test, sgd_y_pred, target_names=classes))"
      ],
      "execution_count": 12,
      "outputs": [
        {
          "output_type": "stream",
          "text": [
            "Confusion matrix, without normalization\n"
          ],
          "name": "stdout"
        },
        {
          "output_type": "display_data",
          "data": {
            "image/png": "[encoded data removed]",
            "text/plain": [
              "<Figure size 1440x720 with 2 Axes>"
            ]
          },
          "metadata": {
            "tags": []
          }
        },
        {
          "output_type": "stream",
          "text": [
            "Accuracy: 0.5130434782608696\n",
            "              precision    recall  f1-score   support\n",
            "\n",
            "         bar       0.39      0.38      0.38        56\n",
            "        hist       0.34      0.43      0.38        30\n",
            "         pie       0.62      0.85      0.72        80\n",
            "         bub       0.73      0.39      0.51        61\n",
            "        scat       0.47      0.31      0.37        62\n",
            "        line       0.46      0.57      0.51        56\n",
            "\n",
            "   micro avg       0.51      0.51      0.51       345\n",
            "   macro avg       0.50      0.49      0.48       345\n",
            "weighted avg       0.52      0.51      0.50       345\n",
            "\n"
          ],
          "name": "stdout"
        }
      ]
    },
    {
      "metadata": {
        "id": "UcB-lGrpqqDY",
        "colab_type": "code",
        "colab": {}
      },
      "cell_type": "code",
      "source": [
        ""
      ],
      "execution_count": 0,
      "outputs": []
    }
  ]
}